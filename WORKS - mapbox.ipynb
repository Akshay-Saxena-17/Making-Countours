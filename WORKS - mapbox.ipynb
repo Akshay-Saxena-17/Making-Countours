{
 "cells": [
  {
   "cell_type": "code",
   "execution_count": 14,
   "id": "10cd4cae",
   "metadata": {},
   "outputs": [],
   "source": [
    "import requests\n",
    "import json\n",
    "import geopandas as gpd"
   ]
  },
  {
   "cell_type": "code",
   "execution_count": 2,
   "id": "26702a23",
   "metadata": {},
   "outputs": [],
   "source": [
    "API_KEY = 'pk.eyJ1IjoiYWtzaGF5MTIzMzIxMTIzIiwiYSI6ImNsaWFpdnE5ODA0NGwzbG1sdzd0N2RhdDIifQ.ou6-e6KeZivh5Nta-8yAeA'"
   ]
  },
  {
   "cell_type": "code",
   "execution_count": 3,
   "id": "a9d986be",
   "metadata": {},
   "outputs": [],
   "source": [
    "# Define your starting point\n",
    "long, lat = -3.6662352, 40.3871829  # Madrid, Spain"
   ]
  },
  {
   "cell_type": "code",
   "execution_count": 4,
   "id": "4c162c9c",
   "metadata": {},
   "outputs": [],
   "source": [
    "# Define your travel time in minutes\n",
    "minutes = 10"
   ]
  },
  {
   "cell_type": "code",
   "execution_count": 5,
   "id": "ebe6971c",
   "metadata": {},
   "outputs": [],
   "source": [
    "# Define your mode of transportation\n",
    "profile = 'walking'"
   ]
  },
  {
   "cell_type": "code",
   "execution_count": 6,
   "id": "d48053a8",
   "metadata": {},
   "outputs": [],
   "source": [
    "# Build the URL\n",
    "url = f\"https://api.mapbox.com/isochrone/v1/mapbox/{profile}/{long},{lat}?contours_minutes={minutes}&polygons=true&access_token={API_KEY}\""
   ]
  },
  {
   "cell_type": "code",
   "execution_count": 7,
   "id": "0a5a6aee",
   "metadata": {},
   "outputs": [],
   "source": [
    "# Make the request\n",
    "response = requests.get(url)"
   ]
  },
  {
   "cell_type": "code",
   "execution_count": 18,
   "id": "42a425e2",
   "metadata": {},
   "outputs": [],
   "source": [
    "# gpd.GeoDataFrame(response.json(),crs='epsg:4326',geometry=\"geometry\")\n"
   ]
  },
  {
   "cell_type": "code",
   "execution_count": 19,
   "id": "4ddd9ef5",
   "metadata": {},
   "outputs": [],
   "source": [
    "# Convert the response to JSON\n",
    "data = response.json()"
   ]
  },
  {
   "cell_type": "code",
   "execution_count": 20,
   "id": "812d06ce",
   "metadata": {},
   "outputs": [
    {
     "name": "stdout",
     "output_type": "stream",
     "text": [
      "{\n",
      "    \"features\": [\n",
      "        {\n",
      "            \"properties\": {\n",
      "                \"fill\": \"#bf4040\",\n",
      "                \"fillOpacity\": 0.33,\n",
      "                \"fill-opacity\": 0.33,\n",
      "                \"fillColor\": \"#bf4040\",\n",
      "                \"color\": \"#bf4040\",\n",
      "                \"contour\": 10,\n",
      "                \"opacity\": 0.33,\n",
      "                \"metric\": \"time\"\n",
      "            },\n",
      "            \"geometry\": {\n",
      "                \"coordinates\": [\n",
      "                    [\n",
      "                        [\n",
      "                            -3.663235,\n",
      "                            40.394247\n",
      "                        ],\n",
      "                        [\n",
      "                            -3.667235,\n",
      "                            40.394539\n",
      "                        ],\n",
      "                        [\n",
      "                            -3.668919,\n",
      "                            40.393183\n",
      "                        ],\n",
      "                        [\n",
      "                            -3.670235,\n",
      "                            40.393528\n",
      "                        ],\n",
      "                        [\n",
      "                            -3.672235,\n",
      "                            40.393345\n",
      "                        ],\n",
      "                        [\n",
      "                            -3.673235,\n",
      "                            40.392484\n",
      "                        ],\n",
      "                        [\n",
      "                            -3.675235,\n",
      "                            40.391804\n",
      "                        ],\n",
      "                        [\n",
      "                            -3.675577,\n",
      "                            40.391183\n",
      "                        ],\n",
      "                        [\n",
      "                            -3.67307,\n",
      "                            40.390349\n",
      "                        ],\n",
      "                        [\n",
      "                            -3.673088,\n",
      "                            40.388036\n",
      "                        ],\n",
      "                        [\n",
      "                            -3.674328,\n",
      "                            40.385091\n",
      "                        ],\n",
      "                        [\n",
      "                            -3.673711,\n",
      "                            40.383183\n",
      "                        ],\n",
      "                        [\n",
      "                            -3.672276,\n",
      "                            40.382183\n",
      "                        ],\n",
      "                        [\n",
      "                            -3.671204,\n",
      "                            40.380215\n",
      "                        ],\n",
      "                        [\n",
      "                            -3.670235,\n",
      "                            40.380118\n",
      "                        ],\n",
      "                        [\n",
      "                            -3.668868,\n",
      "                            40.380816\n",
      "                        ],\n",
      "                        [\n",
      "                            -3.666456,\n",
      "                            40.380404\n",
      "                        ],\n",
      "                        [\n",
      "                            -3.662235,\n",
      "                            40.380889\n",
      "                        ],\n",
      "                        [\n",
      "                            -3.660251,\n",
      "                            40.383183\n",
      "                        ],\n",
      "                        [\n",
      "                            -3.660284,\n",
      "                            40.384232\n",
      "                        ],\n",
      "                        [\n",
      "                            -3.659632,\n",
      "                            40.385183\n",
      "                        ],\n",
      "                        [\n",
      "                            -3.660182,\n",
      "                            40.386183\n",
      "                        ],\n",
      "                        [\n",
      "                            -3.659786,\n",
      "                            40.388183\n",
      "                        ],\n",
      "                        [\n",
      "                            -3.66082,\n",
      "                            40.389183\n",
      "                        ],\n",
      "                        [\n",
      "                            -3.660378,\n",
      "                            40.392183\n",
      "                        ],\n",
      "                        [\n",
      "                            -3.663235,\n",
      "                            40.394247\n",
      "                        ]\n",
      "                    ]\n",
      "                ],\n",
      "                \"type\": \"Polygon\"\n",
      "            },\n",
      "            \"type\": \"Feature\"\n",
      "        }\n",
      "    ],\n",
      "    \"type\": \"FeatureCollection\"\n",
      "}\n"
     ]
    }
   ],
   "source": [
    "# Print the data\n",
    "print(json.dumps(data, indent=4))"
   ]
  },
  {
   "cell_type": "code",
   "execution_count": 21,
   "id": "71548ec1",
   "metadata": {},
   "outputs": [],
   "source": [
    "file_path = \"sample_isochrone.geojson\""
   ]
  },
  {
   "cell_type": "code",
   "execution_count": 24,
   "id": "329e7415",
   "metadata": {},
   "outputs": [],
   "source": [
    "# Save the JSON object as a GeoJSON file\n",
    "with open(file_path, \"w\") as file:\n",
    "    json.dump(data, file)"
   ]
  }
 ],
 "metadata": {
  "kernelspec": {
   "display_name": "Python 3 (ipykernel)",
   "language": "python",
   "name": "python3"
  },
  "language_info": {
   "codemirror_mode": {
    "name": "ipython",
    "version": 3
   },
   "file_extension": ".py",
   "mimetype": "text/x-python",
   "name": "python",
   "nbconvert_exporter": "python",
   "pygments_lexer": "ipython3",
   "version": "3.10.11"
  }
 },
 "nbformat": 4,
 "nbformat_minor": 5
}
