{
 "cells": [
  {
   "cell_type": "code",
   "execution_count": 21,
   "id": "1e046c19",
   "metadata": {},
   "outputs": [],
   "source": [
    "import osmnx as ox\n",
    "import networkx as nx\n",
    "import geopandas as gpd\n",
    "from shapely.geometry import Point, Polygon, LineString\n",
    "# from sklearn.neighbors import BallTree"
   ]
  },
  {
   "cell_type": "code",
   "execution_count": 2,
   "id": "c57a5a1a",
   "metadata": {},
   "outputs": [],
   "source": [
    "# Configure the place and network type\n",
    "place = 'Madrid, Spain'\n",
    "network_type = 'walk'"
   ]
  },
  {
   "cell_type": "code",
   "execution_count": 3,
   "id": "561e41ef",
   "metadata": {},
   "outputs": [],
   "source": [
    "# Download the street network\n",
    "G = ox.graph_from_place(place, network_type=network_type)"
   ]
  },
  {
   "cell_type": "code",
   "execution_count": 23,
   "id": "4372c29f",
   "metadata": {},
   "outputs": [],
   "source": [
    "# Convert network into GeoDataFrame\n",
    "nodes, _ = ox.graph_to_gdfs(G)"
   ]
  },
  {
   "cell_type": "code",
   "execution_count": 24,
   "id": "d10593e8",
   "metadata": {},
   "outputs": [],
   "source": [
    "# Create Point for your location\n",
    "your_location = Point(40.3871829, -3.6662352)\n"
   ]
  },
  {
   "cell_type": "code",
   "execution_count": 25,
   "id": "f8b1e48e",
   "metadata": {},
   "outputs": [
    {
     "name": "stderr",
     "output_type": "stream",
     "text": [
      "C:\\Users\\aksha\\AppData\\Local\\Temp\\ipykernel_7732\\1297543908.py:2: UserWarning: Geometry is in a geographic CRS. Results from 'distance' are likely incorrect. Use 'GeoSeries.to_crs()' to re-project geometries to a projected CRS before this operation.\n",
      "\n",
      "  nodes['distance_to_me'] = nodes.geometry.distance(your_location)\n"
     ]
    }
   ],
   "source": [
    "# Calculate the minimum distance between every node and your location\n",
    "nodes['distance_to_me'] = nodes.geometry.distance(your_location)"
   ]
  },
  {
   "cell_type": "code",
   "execution_count": 26,
   "id": "e2b1c5b7",
   "metadata": {},
   "outputs": [],
   "source": [
    "# Find the nearest node (the one with the minimum distance)\n",
    "center_node = nodes.loc[nodes.distance_to_me.idxmin()].name"
   ]
  },
  {
   "cell_type": "code",
   "execution_count": 28,
   "id": "a5b26f73",
   "metadata": {},
   "outputs": [
    {
     "name": "stderr",
     "output_type": "stream",
     "text": [
      "C:\\Users\\aksha\\AppData\\Local\\Temp\\ipykernel_7732\\149575445.py:1: UserWarning: Geometry is in a geographic CRS. Results from 'distance' are likely incorrect. Use 'GeoSeries.to_crs()' to re-project geometries to a projected CRS before this operation.\n",
      "\n",
      "  nodes['distance_to_me'] = nodes.geometry.distance(your_location)\n"
     ]
    }
   ],
   "source": [
    "nodes['distance_to_me'] = nodes.geometry.distance(your_location)"
   ]
  }
 ],
 "metadata": {
  "kernelspec": {
   "display_name": "Python 3 (ipykernel)",
   "language": "python",
   "name": "python3"
  },
  "language_info": {
   "codemirror_mode": {
    "name": "ipython",
    "version": 3
   },
   "file_extension": ".py",
   "mimetype": "text/x-python",
   "name": "python",
   "nbconvert_exporter": "python",
   "pygments_lexer": "ipython3",
   "version": "3.10.11"
  }
 },
 "nbformat": 4,
 "nbformat_minor": 5
}
