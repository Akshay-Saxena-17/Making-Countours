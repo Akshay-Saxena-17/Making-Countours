{
 "cells": [
  {
   "cell_type": "code",
   "execution_count": 15,
   "id": "70a35d98",
   "metadata": {},
   "outputs": [],
   "source": [
    "import osmnx as ox\n",
    "import geopandas as gpd\n",
    "from shapely.geometry import Point\n",
    "import scipy"
   ]
  },
  {
   "cell_type": "code",
   "execution_count": 3,
   "id": "870b0029",
   "metadata": {},
   "outputs": [],
   "source": [
    "# Step 1: Download OpenStreetMap data for the desired area\n",
    "place_name = \"Madrid, Spain\"\n",
    "graph = ox.graph_from_place(place_name, network_type='walk')"
   ]
  },
  {
   "cell_type": "code",
   "execution_count": 8,
   "id": "9910d9d0",
   "metadata": {},
   "outputs": [],
   "source": [
    "# Step 2: Project the graph to UTM coordinates\n",
    "graph_proj = ox.project_graph(graph)"
   ]
  },
  {
   "cell_type": "code",
   "execution_count": 9,
   "id": "4ca6d511",
   "metadata": {},
   "outputs": [],
   "source": [
    "# Step 3: Extract road networks and footpaths from OpenStreetMap data\n",
    "nodes, edges = ox.graph_to_gdfs(graph_proj)"
   ]
  },
  {
   "cell_type": "code",
   "execution_count": 10,
   "id": "1ea74059",
   "metadata": {},
   "outputs": [],
   "source": [
    "# Step 4: Define center point and time intervals\n",
    "center_point = Point(-3.6662352, 40.3871829)  # Replace with the desired coordinates\n",
    "time_intervals = [5, 10, 15]  # Walking time intervals in minutes"
   ]
  },
  {
   "cell_type": "code",
   "execution_count": 16,
   "id": "c9a29de6",
   "metadata": {},
   "outputs": [
    {
     "ename": "ImportError",
     "evalue": "scipy must be installed to search a projected graph",
     "output_type": "error",
     "traceback": [
      "\u001b[1;31m---------------------------------------------------------------------------\u001b[0m",
      "\u001b[1;31mImportError\u001b[0m                               Traceback (most recent call last)",
      "Cell \u001b[1;32mIn[16], line 2\u001b[0m\n\u001b[0;32m      1\u001b[0m \u001b[38;5;66;03m# Step 4: Calculate walking distances using Dijkstra's algorithm\u001b[39;00m\n\u001b[1;32m----> 2\u001b[0m distances \u001b[38;5;241m=\u001b[39m \u001b[43mox\u001b[49m\u001b[38;5;241;43m.\u001b[39;49m\u001b[43mdistance\u001b[49m\u001b[38;5;241;43m.\u001b[39;49m\u001b[43mnearest_nodes\u001b[49m\u001b[43m(\u001b[49m\u001b[43mgraph_proj\u001b[49m\u001b[43m,\u001b[49m\u001b[38;5;241;43m-\u001b[39;49m\u001b[38;5;241;43m3.6662352\u001b[39;49m\u001b[43m,\u001b[49m\u001b[43m \u001b[49m\u001b[38;5;241;43m40.3871829\u001b[39;49m\u001b[43m,\u001b[49m\u001b[43m \u001b[49m\u001b[43mreturn_dist\u001b[49m\u001b[38;5;241;43m=\u001b[39;49m\u001b[38;5;28;43;01mTrue\u001b[39;49;00m\u001b[43m)\u001b[49m\n",
      "File \u001b[1;32m~\\Desktop\\PythonProjects\\polygons\\env\\lib\\site-packages\\osmnx\\distance.py:211\u001b[0m, in \u001b[0;36mnearest_nodes\u001b[1;34m(G, X, Y, return_dist)\u001b[0m\n\u001b[0;32m    208\u001b[0m \u001b[38;5;28;01mif\u001b[39;00m projection\u001b[38;5;241m.\u001b[39mis_projected(G\u001b[38;5;241m.\u001b[39mgraph[\u001b[38;5;124m\"\u001b[39m\u001b[38;5;124mcrs\u001b[39m\u001b[38;5;124m\"\u001b[39m]):\n\u001b[0;32m    209\u001b[0m     \u001b[38;5;66;03m# if projected, use k-d tree for euclidean nearest-neighbor search\u001b[39;00m\n\u001b[0;32m    210\u001b[0m     \u001b[38;5;28;01mif\u001b[39;00m cKDTree \u001b[38;5;129;01mis\u001b[39;00m \u001b[38;5;28;01mNone\u001b[39;00m:  \u001b[38;5;66;03m# pragma: no cover\u001b[39;00m\n\u001b[1;32m--> 211\u001b[0m         \u001b[38;5;28;01mraise\u001b[39;00m \u001b[38;5;167;01mImportError\u001b[39;00m(\u001b[38;5;124m\"\u001b[39m\u001b[38;5;124mscipy must be installed to search a projected graph\u001b[39m\u001b[38;5;124m\"\u001b[39m)\n\u001b[0;32m    212\u001b[0m     dist, pos \u001b[38;5;241m=\u001b[39m cKDTree(nodes)\u001b[38;5;241m.\u001b[39mquery(np\u001b[38;5;241m.\u001b[39marray([X, Y])\u001b[38;5;241m.\u001b[39mT, k\u001b[38;5;241m=\u001b[39m\u001b[38;5;241m1\u001b[39m)\n\u001b[0;32m    213\u001b[0m     nn \u001b[38;5;241m=\u001b[39m nodes\u001b[38;5;241m.\u001b[39mindex[pos]\n",
      "\u001b[1;31mImportError\u001b[0m: scipy must be installed to search a projected graph"
     ]
    }
   ],
   "source": [
    "# Step 5: Calculate walking distances using Dijkstra's algorithm\n",
    "distances = ox.distance.nearest_nodes(graph_proj,-3.6662352, 40.3871829, return_dist=True)"
   ]
  },
  {
   "cell_type": "code",
   "execution_count": null,
   "id": "23835ee8",
   "metadata": {},
   "outputs": [],
   "source": [
    "# Step 5: Generate polygons based on walking distances\n",
    "polygons = []\n",
    "for interval in time_intervals:\n",
    "    polygon = center_point.buffer(interval * 60 * 0.001 * distances[1])  # 1 meter = 0.001 km\n",
    "    polygons.append(polygon)"
   ]
  },
  {
   "cell_type": "code",
   "execution_count": null,
   "id": "fabb6d7c",
   "metadata": {},
   "outputs": [],
   "source": [
    "# Step 6: Overlay polygons on a map using GeoPandas and Matplotlib\n",
    "base_map = ox.plot_graph_folium(graph, show=False)\n",
    "gdf_polygons = gpd.GeoDataFrame({'Time Interval': time_intervals, 'geometry': polygons})\n",
    "gdf_polygons.plot(ax=base_map, alpha=0.4, cmap='YlOrRd', legend=True)"
   ]
  }
 ],
 "metadata": {
  "kernelspec": {
   "display_name": "Python 3 (ipykernel)",
   "language": "python",
   "name": "python3"
  },
  "language_info": {
   "codemirror_mode": {
    "name": "ipython",
    "version": 3
   },
   "file_extension": ".py",
   "mimetype": "text/x-python",
   "name": "python",
   "nbconvert_exporter": "python",
   "pygments_lexer": "ipython3",
   "version": "3.10.11"
  }
 },
 "nbformat": 4,
 "nbformat_minor": 5
}
