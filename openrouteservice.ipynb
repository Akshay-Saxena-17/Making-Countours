{
 "cells": [
  {
   "cell_type": "code",
   "execution_count": 18,
   "id": "e80c2c54",
   "metadata": {},
   "outputs": [],
   "source": [
    "import openrouteservice\n",
    "from openrouteservice import convert\n",
    "import folium"
   ]
  },
  {
   "cell_type": "code",
   "execution_count": 19,
   "id": "0f79d2b2",
   "metadata": {},
   "outputs": [],
   "source": [
    "# Define coordinates\n",
    "coords = [[40.3871829,-3.6662352]]  # Longitude, Latitude"
   ]
  },
  {
   "cell_type": "code",
   "execution_count": 20,
   "id": "a0e16ad7",
   "metadata": {},
   "outputs": [],
   "source": [
    "# Set up openrouteservice client with your API key\n",
    "client = openrouteservice.Client(key='5b3ce3597851110001cf62488909bfa8bcdc405888eb4ce1663df35f')"
   ]
  },
  {
   "cell_type": "code",
   "execution_count": 21,
   "id": "5aa6108d",
   "metadata": {},
   "outputs": [],
   "source": [
    "# Define parameters for isochrone creation\n",
    "parameters_iso = {\n",
    "    'profile': 'foot-walking',\n",
    "    'range': [600], # this is in seconds, so equals 10 minutes walking\n",
    "#     'attributes': ['total_pop'],\n",
    "    'locations': coords,\n",
    "    'range_type': 'time'\n",
    "}"
   ]
  },
  {
   "cell_type": "code",
   "execution_count": 22,
   "id": "8cf5620b",
   "metadata": {},
   "outputs": [
    {
     "ename": "ApiError",
     "evalue": "500 ({'error': {'code': 3099, 'message': 'Unable to build an isochrone map.'}, 'info': {'engine': {'version': '6.8.1', 'build_date': '2023-05-22T14:27:28Z'}, 'timestamp': 1685456620812}})",
     "output_type": "error",
     "traceback": [
      "\u001b[1;31m---------------------------------------------------------------------------\u001b[0m",
      "\u001b[1;31mApiError\u001b[0m                                  Traceback (most recent call last)",
      "Cell \u001b[1;32mIn[22], line 2\u001b[0m\n\u001b[0;32m      1\u001b[0m \u001b[38;5;66;03m# Request isochrone data\u001b[39;00m\n\u001b[1;32m----> 2\u001b[0m iso \u001b[38;5;241m=\u001b[39m client\u001b[38;5;241m.\u001b[39misochrones(\u001b[38;5;241m*\u001b[39m\u001b[38;5;241m*\u001b[39mparameters_iso)\n",
      "File \u001b[1;32m~\\Desktop\\PythonProjects\\polygons\\env\\lib\\site-packages\\openrouteservice\\client.py:299\u001b[0m, in \u001b[0;36m_make_api_method.<locals>.wrapper\u001b[1;34m(*args, **kwargs)\u001b[0m\n\u001b[0;32m    296\u001b[0m \u001b[38;5;129m@functools\u001b[39m\u001b[38;5;241m.\u001b[39mwraps(func)\n\u001b[0;32m    297\u001b[0m \u001b[38;5;28;01mdef\u001b[39;00m \u001b[38;5;21mwrapper\u001b[39m(\u001b[38;5;241m*\u001b[39margs, \u001b[38;5;241m*\u001b[39m\u001b[38;5;241m*\u001b[39mkwargs):\n\u001b[0;32m    298\u001b[0m     args[\u001b[38;5;241m0\u001b[39m]\u001b[38;5;241m.\u001b[39m_extra_params \u001b[38;5;241m=\u001b[39m kwargs\u001b[38;5;241m.\u001b[39mpop(\u001b[38;5;124m\"\u001b[39m\u001b[38;5;124mextra_params\u001b[39m\u001b[38;5;124m\"\u001b[39m, \u001b[38;5;28;01mNone\u001b[39;00m)\n\u001b[1;32m--> 299\u001b[0m     result \u001b[38;5;241m=\u001b[39m func(\u001b[38;5;241m*\u001b[39margs, \u001b[38;5;241m*\u001b[39m\u001b[38;5;241m*\u001b[39mkwargs)\n\u001b[0;32m    300\u001b[0m     \u001b[38;5;28;01mtry\u001b[39;00m:\n\u001b[0;32m    301\u001b[0m         \u001b[38;5;28;01mdel\u001b[39;00m args[\u001b[38;5;241m0\u001b[39m]\u001b[38;5;241m.\u001b[39m_extra_params\n",
      "File \u001b[1;32m~\\Desktop\\PythonProjects\\polygons\\env\\lib\\site-packages\\openrouteservice\\isochrones.py:132\u001b[0m, in \u001b[0;36misochrones\u001b[1;34m(client, locations, profile, range_type, range, intervals, segments, interval, units, location_type, smoothing, attributes, validate, dry_run)\u001b[0m\n\u001b[0;32m    129\u001b[0m \u001b[38;5;28;01mif\u001b[39;00m attributes:\n\u001b[0;32m    130\u001b[0m     params[\u001b[38;5;124m\"\u001b[39m\u001b[38;5;124mattributes\u001b[39m\u001b[38;5;124m\"\u001b[39m] \u001b[38;5;241m=\u001b[39m attributes\n\u001b[1;32m--> 132\u001b[0m \u001b[38;5;28;01mreturn\u001b[39;00m \u001b[43mclient\u001b[49m\u001b[38;5;241;43m.\u001b[39;49m\u001b[43mrequest\u001b[49m\u001b[43m(\u001b[49m\u001b[38;5;124;43m\"\u001b[39;49m\u001b[38;5;124;43m/v2/isochrones/\u001b[39;49m\u001b[38;5;124;43m\"\u001b[39;49m\u001b[43m \u001b[49m\u001b[38;5;241;43m+\u001b[39;49m\u001b[43m \u001b[49m\u001b[43mprofile\u001b[49m\u001b[43m \u001b[49m\u001b[38;5;241;43m+\u001b[39;49m\u001b[43m \u001b[49m\u001b[38;5;124;43m'\u001b[39;49m\u001b[38;5;124;43m/geojson\u001b[39;49m\u001b[38;5;124;43m'\u001b[39;49m\u001b[43m,\u001b[49m\u001b[43m \u001b[49m\u001b[43m{\u001b[49m\u001b[43m}\u001b[49m\u001b[43m,\u001b[49m\u001b[43m \u001b[49m\u001b[43mpost_json\u001b[49m\u001b[38;5;241;43m=\u001b[39;49m\u001b[43mparams\u001b[49m\u001b[43m,\u001b[49m\u001b[43m \u001b[49m\u001b[43mdry_run\u001b[49m\u001b[38;5;241;43m=\u001b[39;49m\u001b[43mdry_run\u001b[49m\u001b[43m)\u001b[49m\n",
      "File \u001b[1;32m~\\Desktop\\PythonProjects\\polygons\\env\\lib\\site-packages\\openrouteservice\\client.py:204\u001b[0m, in \u001b[0;36mClient.request\u001b[1;34m(self, url, get_params, first_request_time, retry_counter, requests_kwargs, post_json, dry_run)\u001b[0m\n\u001b[0;32m    200\u001b[0m     \u001b[38;5;28;01mreturn\u001b[39;00m \u001b[38;5;28mself\u001b[39m\u001b[38;5;241m.\u001b[39mrequest(url, get_params, first_request_time,\n\u001b[0;32m    201\u001b[0m                         retry_counter \u001b[38;5;241m+\u001b[39m \u001b[38;5;241m1\u001b[39m, requests_kwargs, post_json)\n\u001b[0;32m    203\u001b[0m \u001b[38;5;28;01mtry\u001b[39;00m:\n\u001b[1;32m--> 204\u001b[0m     result \u001b[38;5;241m=\u001b[39m \u001b[38;5;28;43mself\u001b[39;49m\u001b[38;5;241;43m.\u001b[39;49m\u001b[43m_get_body\u001b[49m\u001b[43m(\u001b[49m\u001b[43mresponse\u001b[49m\u001b[43m)\u001b[49m\n\u001b[0;32m    206\u001b[0m     \u001b[38;5;28;01mreturn\u001b[39;00m result\n\u001b[0;32m    207\u001b[0m \u001b[38;5;28;01mexcept\u001b[39;00m exceptions\u001b[38;5;241m.\u001b[39m_RetriableRequest \u001b[38;5;28;01mas\u001b[39;00m e:\n",
      "File \u001b[1;32m~\\Desktop\\PythonProjects\\polygons\\env\\lib\\site-packages\\openrouteservice\\client.py:242\u001b[0m, in \u001b[0;36mClient._get_body\u001b[1;34m(response)\u001b[0m\n\u001b[0;32m    237\u001b[0m     \u001b[38;5;28;01mraise\u001b[39;00m exceptions\u001b[38;5;241m.\u001b[39m_OverQueryLimit(\n\u001b[0;32m    238\u001b[0m         status_code,\n\u001b[0;32m    239\u001b[0m         body\n\u001b[0;32m    240\u001b[0m     )\n\u001b[0;32m    241\u001b[0m \u001b[38;5;28;01mif\u001b[39;00m status_code \u001b[38;5;241m!=\u001b[39m \u001b[38;5;241m200\u001b[39m:\n\u001b[1;32m--> 242\u001b[0m     \u001b[38;5;28;01mraise\u001b[39;00m exceptions\u001b[38;5;241m.\u001b[39mApiError(\n\u001b[0;32m    243\u001b[0m         status_code,\n\u001b[0;32m    244\u001b[0m         body\n\u001b[0;32m    245\u001b[0m     )\n\u001b[0;32m    247\u001b[0m \u001b[38;5;28;01mreturn\u001b[39;00m body\n",
      "\u001b[1;31mApiError\u001b[0m: 500 ({'error': {'code': 3099, 'message': 'Unable to build an isochrone map.'}, 'info': {'engine': {'version': '6.8.1', 'build_date': '2023-05-22T14:27:28Z'}, 'timestamp': 1685456620812}})"
     ]
    }
   ],
   "source": [
    "# Request isochrone data\n",
    "iso = client.isochrones(**parameters_iso)"
   ]
  },
  {
   "cell_type": "code",
   "execution_count": null,
   "id": "a76a1121",
   "metadata": {},
   "outputs": [],
   "source": [
    "# Request isochrone data\n",
    "iso = client.isochrones(**parameters_iso)\n",
    "\n",
    "# Initialize a map with the start point at the center\n",
    "m = folium.Map(location=coords[0], zoom_start=14)\n",
    "\n",
    "# Add isochrone polygon to the map\n",
    "folium.features.GeoJson(iso).add_to(m)\n",
    "\n",
    "# Display map\n",
    "m"
   ]
  }
 ],
 "metadata": {
  "kernelspec": {
   "display_name": "Python 3 (ipykernel)",
   "language": "python",
   "name": "python3"
  },
  "language_info": {
   "codemirror_mode": {
    "name": "ipython",
    "version": 3
   },
   "file_extension": ".py",
   "mimetype": "text/x-python",
   "name": "python",
   "nbconvert_exporter": "python",
   "pygments_lexer": "ipython3",
   "version": "3.10.11"
  }
 },
 "nbformat": 4,
 "nbformat_minor": 5
}
