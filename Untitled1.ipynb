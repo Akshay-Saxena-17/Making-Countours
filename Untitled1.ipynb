{
 "cells": [
  {
   "cell_type": "code",
   "execution_count": null,
   "id": "c4209d10",
   "metadata": {},
   "outputs": [],
   "source": [
    "import requests\n",
    "import random\n",
    "import folium\n",
    "import geopy.distance\n",
    "from mapbox import Directions"
   ]
  },
  {
   "cell_type": "code",
   "execution_count": 4,
   "id": "8151ed4e",
   "metadata": {},
   "outputs": [],
   "source": [
    "# Your Mapbox access token\n",
    "token = 'pk.eyJ1IjoiYWtzaGF5MTIzMzIxMTIzIiwiYSI6ImNsaWFpdnE5ODA0NGwzbG1sdzd0N2RhdDIifQ.ou6-e6KeZivh5Nta-8yAeA'"
   ]
  },
  {
   "cell_type": "code",
   "execution_count": 5,
   "id": "0ec29674",
   "metadata": {},
   "outputs": [],
   "source": [
    "# Initialize the Mapbox Directions client\n",
    "service = Directions(access_token=token)"
   ]
  },
  {
   "cell_type": "code",
   "execution_count": 6,
   "id": "d97f1f22",
   "metadata": {},
   "outputs": [],
   "source": [
    "# Center point (Madrid)\n",
    "center = [40.3871829, -3.6662352]"
   ]
  },
  {
   "cell_type": "code",
   "execution_count": 7,
   "id": "3da4b87a",
   "metadata": {},
   "outputs": [],
   "source": [
    "# Number of routes to generate\n",
    "num_routes = 20"
   ]
  },
  {
   "cell_type": "code",
   "execution_count": 8,
   "id": "719f1628",
   "metadata": {},
   "outputs": [],
   "source": [
    "# Isochrone (10-minute walk)\n",
    "response = requests.get(\n",
    "    f'https://api.mapbox.com/isochrone/v1/mapbox/walking/{center[1]},{center[0]}?contours_minutes=10&polygons=true&access_token={token}'\n",
    ")\n",
    "isochrone = response.json()"
   ]
  },
  {
   "cell_type": "code",
   "execution_count": 9,
   "id": "162289b2",
   "metadata": {},
   "outputs": [],
   "source": [
    "# Get the isochrone contour\n",
    "contour = isochrone['features'][0]['geometry']['coordinates'][0]\n"
   ]
  },
  {
   "cell_type": "code",
   "execution_count": 10,
   "id": "66254198",
   "metadata": {},
   "outputs": [],
   "source": [
    "# Randomly select points within the isochrone\n",
    "random.seed(0)  # For reproducibility\n",
    "points = random.sample(contour, num_routes)"
   ]
  },
  {
   "cell_type": "code",
   "execution_count": 11,
   "id": "83dfb680",
   "metadata": {},
   "outputs": [
    {
     "data": {
      "text/plain": [
       "<folium.features.GeoJson at 0x13cbadffca0>"
      ]
     },
     "execution_count": 11,
     "metadata": {},
     "output_type": "execute_result"
    }
   ],
   "source": [
    "# Generate and plot routes\n",
    "m = folium.Map(location=center, zoom_start=14)\n",
    "folium.GeoJson(isochrone).add_to(m)\n"
   ]
  },
  {
   "cell_type": "code",
   "execution_count": 13,
   "id": "cf6f8dc2",
   "metadata": {},
   "outputs": [],
   "source": [
    "for point in contour:\n",
    "    # Request route data\n",
    "    response = service.directions([{'type': 'Point', 'coordinates': center}, {'type': 'Point', 'coordinates': point}], 'mapbox.walking')\n",
    "\n",
    "    # Check if the request was successful\n",
    "    if response.status_code == 200:\n",
    "        data = response.json()\n",
    "\n",
    "        # Check if there is a valid route\n",
    "        if 'routes' in data and data['routes']:\n",
    "            route = response.geojson()\n",
    "\n",
    "            # Add route to the map\n",
    "            folium.GeoJson(route).add_to(m)"
   ]
  },
  {
   "cell_type": "code",
   "execution_count": 15,
   "id": "e7ba6b53",
   "metadata": {},
   "outputs": [
    {
     "data": {
      "text/html": [
       "<div style=\"width:100%;\"><div style=\"position:relative;width:100%;height:0;padding-bottom:60%;\"><span style=\"color:#565656\">Make this Notebook Trusted to load map: File -> Trust Notebook</span><iframe srcdoc=\"&lt;!DOCTYPE html&gt;\n",
       "&lt;html&gt;\n",
       "&lt;head&gt;\n",
       "    \n",
       "    &lt;meta http-equiv=&quot;content-type&quot; content=&quot;text/html; charset=UTF-8&quot; /&gt;\n",
       "    \n",
       "        &lt;script&gt;\n",
       "            L_NO_TOUCH = false;\n",
       "            L_DISABLE_3D = false;\n",
       "        &lt;/script&gt;\n",
       "    \n",
       "    &lt;style&gt;html, body {width: 100%;height: 100%;margin: 0;padding: 0;}&lt;/style&gt;\n",
       "    &lt;style&gt;#map {position:absolute;top:0;bottom:0;right:0;left:0;}&lt;/style&gt;\n",
       "    &lt;script src=&quot;https://cdn.jsdelivr.net/npm/leaflet@1.9.3/dist/leaflet.js&quot;&gt;&lt;/script&gt;\n",
       "    &lt;script src=&quot;https://code.jquery.com/jquery-1.12.4.min.js&quot;&gt;&lt;/script&gt;\n",
       "    &lt;script src=&quot;https://cdn.jsdelivr.net/npm/bootstrap@5.2.2/dist/js/bootstrap.bundle.min.js&quot;&gt;&lt;/script&gt;\n",
       "    &lt;script src=&quot;https://cdnjs.cloudflare.com/ajax/libs/Leaflet.awesome-markers/2.0.2/leaflet.awesome-markers.js&quot;&gt;&lt;/script&gt;\n",
       "    &lt;link rel=&quot;stylesheet&quot; href=&quot;https://cdn.jsdelivr.net/npm/leaflet@1.9.3/dist/leaflet.css&quot;/&gt;\n",
       "    &lt;link rel=&quot;stylesheet&quot; href=&quot;https://cdn.jsdelivr.net/npm/bootstrap@5.2.2/dist/css/bootstrap.min.css&quot;/&gt;\n",
       "    &lt;link rel=&quot;stylesheet&quot; href=&quot;https://netdna.bootstrapcdn.com/bootstrap/3.0.0/css/bootstrap.min.css&quot;/&gt;\n",
       "    &lt;link rel=&quot;stylesheet&quot; href=&quot;https://cdn.jsdelivr.net/npm/@fortawesome/fontawesome-free@6.2.0/css/all.min.css&quot;/&gt;\n",
       "    &lt;link rel=&quot;stylesheet&quot; href=&quot;https://cdnjs.cloudflare.com/ajax/libs/Leaflet.awesome-markers/2.0.2/leaflet.awesome-markers.css&quot;/&gt;\n",
       "    &lt;link rel=&quot;stylesheet&quot; href=&quot;https://cdn.jsdelivr.net/gh/python-visualization/folium/folium/templates/leaflet.awesome.rotate.min.css&quot;/&gt;\n",
       "    \n",
       "            &lt;meta name=&quot;viewport&quot; content=&quot;width=device-width,\n",
       "                initial-scale=1.0, maximum-scale=1.0, user-scalable=no&quot; /&gt;\n",
       "            &lt;style&gt;\n",
       "                #map_7ac4e8a8e922c34d196c3285ea7fc8b6 {\n",
       "                    position: relative;\n",
       "                    width: 100.0%;\n",
       "                    height: 100.0%;\n",
       "                    left: 0.0%;\n",
       "                    top: 0.0%;\n",
       "                }\n",
       "                .leaflet-container { font-size: 1rem; }\n",
       "            &lt;/style&gt;\n",
       "        \n",
       "&lt;/head&gt;\n",
       "&lt;body&gt;\n",
       "    \n",
       "    \n",
       "            &lt;div class=&quot;folium-map&quot; id=&quot;map_7ac4e8a8e922c34d196c3285ea7fc8b6&quot; &gt;&lt;/div&gt;\n",
       "        \n",
       "&lt;/body&gt;\n",
       "&lt;script&gt;\n",
       "    \n",
       "    \n",
       "            var map_7ac4e8a8e922c34d196c3285ea7fc8b6 = L.map(\n",
       "                &quot;map_7ac4e8a8e922c34d196c3285ea7fc8b6&quot;,\n",
       "                {\n",
       "                    center: [40.3871829, -3.6662352],\n",
       "                    crs: L.CRS.EPSG3857,\n",
       "                    zoom: 14,\n",
       "                    zoomControl: true,\n",
       "                    preferCanvas: false,\n",
       "                }\n",
       "            );\n",
       "\n",
       "            \n",
       "\n",
       "        \n",
       "    \n",
       "            var tile_layer_970894e3c6887465242db0ded72b9177 = L.tileLayer(\n",
       "                &quot;https://{s}.tile.openstreetmap.org/{z}/{x}/{y}.png&quot;,\n",
       "                {&quot;attribution&quot;: &quot;Data by \\u0026copy; \\u003ca target=\\&quot;_blank\\&quot; href=\\&quot;http://openstreetmap.org\\&quot;\\u003eOpenStreetMap\\u003c/a\\u003e, under \\u003ca target=\\&quot;_blank\\&quot; href=\\&quot;http://www.openstreetmap.org/copyright\\&quot;\\u003eODbL\\u003c/a\\u003e.&quot;, &quot;detectRetina&quot;: false, &quot;maxNativeZoom&quot;: 18, &quot;maxZoom&quot;: 18, &quot;minZoom&quot;: 0, &quot;noWrap&quot;: false, &quot;opacity&quot;: 1, &quot;subdomains&quot;: &quot;abc&quot;, &quot;tms&quot;: false}\n",
       "            ).addTo(map_7ac4e8a8e922c34d196c3285ea7fc8b6);\n",
       "        \n",
       "    \n",
       "\n",
       "        function geo_json_dbb0524b9fd3f784f0ae021ed2d0d777_onEachFeature(feature, layer) {\n",
       "            layer.on({\n",
       "            });\n",
       "        };\n",
       "        var geo_json_dbb0524b9fd3f784f0ae021ed2d0d777 = L.geoJson(null, {\n",
       "                onEachFeature: geo_json_dbb0524b9fd3f784f0ae021ed2d0d777_onEachFeature,\n",
       "            \n",
       "        });\n",
       "\n",
       "        function geo_json_dbb0524b9fd3f784f0ae021ed2d0d777_add (data) {\n",
       "            geo_json_dbb0524b9fd3f784f0ae021ed2d0d777\n",
       "                .addData(data)\n",
       "                .addTo(map_7ac4e8a8e922c34d196c3285ea7fc8b6);\n",
       "        }\n",
       "            geo_json_dbb0524b9fd3f784f0ae021ed2d0d777_add({&quot;features&quot;: [{&quot;geometry&quot;: {&quot;coordinates&quot;: [[[-3.663235, 40.394247], [-3.667235, 40.394539], [-3.668919, 40.393183], [-3.670235, 40.393528], [-3.672235, 40.393345], [-3.673235, 40.392484], [-3.675235, 40.391804], [-3.675577, 40.391183], [-3.67307, 40.390349], [-3.673088, 40.388036], [-3.674328, 40.385091], [-3.673711, 40.383183], [-3.672276, 40.382183], [-3.671204, 40.380215], [-3.670235, 40.380118], [-3.668868, 40.380816], [-3.666456, 40.380404], [-3.662235, 40.380889], [-3.660251, 40.383183], [-3.660284, 40.384232], [-3.659632, 40.385183], [-3.660182, 40.386183], [-3.659786, 40.388183], [-3.66082, 40.389183], [-3.660378, 40.392183], [-3.663235, 40.394247]]], &quot;type&quot;: &quot;Polygon&quot;}, &quot;properties&quot;: {&quot;color&quot;: &quot;#bf4040&quot;, &quot;contour&quot;: 10, &quot;fill&quot;: &quot;#bf4040&quot;, &quot;fill-opacity&quot;: 0.33, &quot;fillColor&quot;: &quot;#bf4040&quot;, &quot;fillOpacity&quot;: 0.33, &quot;metric&quot;: &quot;time&quot;, &quot;opacity&quot;: 0.33}, &quot;type&quot;: &quot;Feature&quot;}], &quot;type&quot;: &quot;FeatureCollection&quot;});\n",
       "\n",
       "        \n",
       "&lt;/script&gt;\n",
       "&lt;/html&gt;\" style=\"position:absolute;width:100%;height:100%;left:0;top:0;border:none !important;\" allowfullscreen webkitallowfullscreen mozallowfullscreen></iframe></div></div>"
      ],
      "text/plain": [
       "<folium.folium.Map at 0x13ccbf853f0>"
      ]
     },
     "execution_count": 15,
     "metadata": {},
     "output_type": "execute_result"
    }
   ],
   "source": [
    "m"
   ]
  }
 ],
 "metadata": {
  "kernelspec": {
   "display_name": "Python 3 (ipykernel)",
   "language": "python",
   "name": "python3"
  },
  "language_info": {
   "codemirror_mode": {
    "name": "ipython",
    "version": 3
   },
   "file_extension": ".py",
   "mimetype": "text/x-python",
   "name": "python",
   "nbconvert_exporter": "python",
   "pygments_lexer": "ipython3",
   "version": "3.10.11"
  }
 },
 "nbformat": 4,
 "nbformat_minor": 5
}
